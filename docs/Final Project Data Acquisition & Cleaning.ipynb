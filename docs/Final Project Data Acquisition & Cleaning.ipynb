{
 "cells": [
  {
   "cell_type": "markdown",
   "metadata": {},
   "source": [
    "## Data Acquisition\n",
    "\n",
    "First I will use the `sodapy` package to set up a data stream using the Open Data API. This data is updated monthly, and so by using an API, the data will always be up-to-date."
   ]
  },
  {
   "cell_type": "code",
   "execution_count": 2,
   "metadata": {},
   "outputs": [],
   "source": [
    "import pandas as pd\n",
    "import datetime\n",
    "import json"
   ]
  },
  {
   "cell_type": "code",
   "execution_count": 4,
   "metadata": {},
   "outputs": [],
   "source": [
    "summons_raw = pd.read_csv(\"~/data608_final/docs/scratch/NYPD_Criminal_Court_Summons__Historic_.csv\")"
   ]
  },
  {
   "cell_type": "code",
   "execution_count": 5,
   "metadata": {},
   "outputs": [
    {
     "name": "stdout",
     "output_type": "stream",
     "text": [
      "<class 'pandas.core.frame.DataFrame'>\n",
      "RangeIndex: 5280675 entries, 0 to 5280674\n",
      "Data columns (total 17 columns):\n",
      " #   Column                 Dtype  \n",
      "---  ------                 -----  \n",
      " 0   SUMMONS_KEY            int64  \n",
      " 1   SUMMONS_DATE           object \n",
      " 2   OFFENSE_DESCRIPTION    object \n",
      " 3   LAW_SECTION_NUMBER     object \n",
      " 4   LAW_DESCRIPTION        object \n",
      " 5   SUMMONS_CATEGORY_TYPE  object \n",
      " 6   AGE_GROUP              object \n",
      " 7   SEX                    object \n",
      " 8   RACE                   object \n",
      " 9   JURISDICTION_CODE      int64  \n",
      " 10  BORO                   object \n",
      " 11  PRECINCT_OF_OCCUR      int64  \n",
      " 12  X_COORDINATE_CD        float64\n",
      " 13  Y_COORDINATE_CD        float64\n",
      " 14  Latitude               float64\n",
      " 15  Longitude              float64\n",
      " 16  Lon_Lat                object \n",
      "dtypes: float64(4), int64(3), object(10)\n",
      "memory usage: 684.9+ MB\n"
     ]
    }
   ],
   "source": [
    "summons_raw.info()"
   ]
  },
  {
   "cell_type": "code",
   "execution_count": 31,
   "metadata": {},
   "outputs": [],
   "source": [
    "df = summons_raw.assign(\n",
    "    SUMMONS_DATE = pd.to_datetime(summons_raw['SUMMONS_DATE'], infer_datetime_format=True)\n",
    ").fillna('')\n",
    "\n",
    "cond = df['OFFENSE_DESCRIPTION'].str.contains(\"MARIJUANA\")"
   ]
  },
  {
   "cell_type": "code",
   "execution_count": 32,
   "metadata": {},
   "outputs": [
    {
     "name": "stdout",
     "output_type": "stream",
     "text": [
      "<class 'pandas.core.frame.DataFrame'>\n",
      "Int64Index: 180724 entries, 32 to 5280641\n",
      "Data columns (total 18 columns):\n",
      " #   Column                 Non-Null Count   Dtype         \n",
      "---  ------                 --------------   -----         \n",
      " 0   SUMMONS_KEY            180724 non-null  int64         \n",
      " 1   SUMMONS_DATE           180724 non-null  datetime64[ns]\n",
      " 2   OFFENSE_DESCRIPTION    180724 non-null  object        \n",
      " 3   LAW_SECTION_NUMBER     180724 non-null  object        \n",
      " 4   LAW_DESCRIPTION        180724 non-null  object        \n",
      " 5   SUMMONS_CATEGORY_TYPE  180724 non-null  object        \n",
      " 6   AGE_GROUP              180724 non-null  object        \n",
      " 7   SEX                    180724 non-null  object        \n",
      " 8   RACE                   180724 non-null  object        \n",
      " 9   JURISDICTION_CODE      180724 non-null  int64         \n",
      " 10  BORO                   180724 non-null  object        \n",
      " 11  PRECINCT_OF_OCCUR      180724 non-null  int64         \n",
      " 12  X_COORDINATE_CD        180724 non-null  object        \n",
      " 13  Y_COORDINATE_CD        180724 non-null  object        \n",
      " 14  Latitude               180724 non-null  object        \n",
      " 15  Longitude              180724 non-null  object        \n",
      " 16  Lon_Lat                180724 non-null  object        \n",
      " 17  MONTH                  180724 non-null  int64         \n",
      "dtypes: datetime64[ns](1), int64(4), object(13)\n",
      "memory usage: 26.2+ MB\n"
     ]
    }
   ],
   "source": [
    "mj = df[cond].assign(\n",
    "        MONTH = df['SUMMONS_DATE'].dt.month\n",
    ")\n",
    "mj.info()"
   ]
  },
  {
   "cell_type": "code",
   "execution_count": 28,
   "metadata": {},
   "outputs": [],
   "source": [
    "#columns of interest\n",
    "cols = ['OFFENSE_DESCRIPTION','PRECINCT_OF_OCCUR','Latitude', 'Longitude']"
   ]
  },
  {
   "cell_type": "markdown",
   "metadata": {},
   "source": [
    "Because race is primarily coded as 'UNKNOWN' prior to 2017, and to make it a little easier to read the map, I will limit my analysis to just the last year, 2019."
   ]
  },
  {
   "cell_type": "code",
   "execution_count": 33,
   "metadata": {},
   "outputs": [
    {
     "data": {
      "text/html": [
       "<div>\n",
       "<style scoped>\n",
       "    .dataframe tbody tr th:only-of-type {\n",
       "        vertical-align: middle;\n",
       "    }\n",
       "\n",
       "    .dataframe tbody tr th {\n",
       "        vertical-align: top;\n",
       "    }\n",
       "\n",
       "    .dataframe thead th {\n",
       "        text-align: right;\n",
       "    }\n",
       "</style>\n",
       "<table border=\"1\" class=\"dataframe\">\n",
       "  <thead>\n",
       "    <tr style=\"text-align: right;\">\n",
       "      <th></th>\n",
       "      <th>SUMMONS_KEY</th>\n",
       "      <th>SUMMONS_DATE</th>\n",
       "      <th>OFFENSE_DESCRIPTION</th>\n",
       "      <th>LAW_SECTION_NUMBER</th>\n",
       "      <th>LAW_DESCRIPTION</th>\n",
       "      <th>SUMMONS_CATEGORY_TYPE</th>\n",
       "      <th>AGE_GROUP</th>\n",
       "      <th>SEX</th>\n",
       "      <th>RACE</th>\n",
       "      <th>JURISDICTION_CODE</th>\n",
       "      <th>BORO</th>\n",
       "      <th>PRECINCT_OF_OCCUR</th>\n",
       "      <th>X_COORDINATE_CD</th>\n",
       "      <th>Y_COORDINATE_CD</th>\n",
       "      <th>Latitude</th>\n",
       "      <th>Longitude</th>\n",
       "      <th>Lon_Lat</th>\n",
       "      <th>MONTH</th>\n",
       "    </tr>\n",
       "  </thead>\n",
       "  <tbody>\n",
       "    <tr>\n",
       "      <th>1687966</th>\n",
       "      <td>194866792</td>\n",
       "      <td>2019-03-18</td>\n",
       "      <td>MARIJUANA, POSSESSION OF</td>\n",
       "      <td>221.05</td>\n",
       "      <td>Penal Law</td>\n",
       "      <td>MARIJUANA</td>\n",
       "      <td>18-24</td>\n",
       "      <td>M</td>\n",
       "      <td>BLACK</td>\n",
       "      <td>2</td>\n",
       "      <td>BRONX</td>\n",
       "      <td>40</td>\n",
       "      <td>1.00717e+06</td>\n",
       "      <td>235889</td>\n",
       "      <td>40.8141</td>\n",
       "      <td>-73.9172</td>\n",
       "      <td>POINT (-73.91718536099995 40.81411505800003)</td>\n",
       "      <td>3</td>\n",
       "    </tr>\n",
       "    <tr>\n",
       "      <th>1687967</th>\n",
       "      <td>197686829</td>\n",
       "      <td>2019-05-27</td>\n",
       "      <td>MARIJUANA, POSSESSION OF</td>\n",
       "      <td>221.05</td>\n",
       "      <td>Penal Law</td>\n",
       "      <td>MARIJUANA</td>\n",
       "      <td>25-44</td>\n",
       "      <td>M</td>\n",
       "      <td>BLACK</td>\n",
       "      <td>0</td>\n",
       "      <td>BROOKLYN</td>\n",
       "      <td>60</td>\n",
       "      <td>990784</td>\n",
       "      <td>149362</td>\n",
       "      <td>40.5766</td>\n",
       "      <td>-73.9765</td>\n",
       "      <td>POINT (-73.97648039599994 40.57664597800005)</td>\n",
       "      <td>5</td>\n",
       "    </tr>\n",
       "    <tr>\n",
       "      <th>1687977</th>\n",
       "      <td>191935327</td>\n",
       "      <td>2019-01-06</td>\n",
       "      <td>MARIJUANA, POSSESSION OF</td>\n",
       "      <td>221.05</td>\n",
       "      <td>Penal Law</td>\n",
       "      <td>MARIJUANA</td>\n",
       "      <td>25-44</td>\n",
       "      <td>M</td>\n",
       "      <td>BLACK</td>\n",
       "      <td>0</td>\n",
       "      <td>BRONX</td>\n",
       "      <td>46</td>\n",
       "      <td>1.01183e+06</td>\n",
       "      <td>252545</td>\n",
       "      <td>40.8598</td>\n",
       "      <td>-73.9003</td>\n",
       "      <td>POINT (-73.90030729499995 40.85981763200005)</td>\n",
       "      <td>1</td>\n",
       "    </tr>\n",
       "  </tbody>\n",
       "</table>\n",
       "</div>"
      ],
      "text/plain": [
       "         SUMMONS_KEY SUMMONS_DATE       OFFENSE_DESCRIPTION  \\\n",
       "1687966    194866792   2019-03-18  MARIJUANA, POSSESSION OF   \n",
       "1687967    197686829   2019-05-27  MARIJUANA, POSSESSION OF   \n",
       "1687977    191935327   2019-01-06  MARIJUANA, POSSESSION OF   \n",
       "\n",
       "        LAW_SECTION_NUMBER LAW_DESCRIPTION SUMMONS_CATEGORY_TYPE AGE_GROUP  \\\n",
       "1687966             221.05       Penal Law             MARIJUANA     18-24   \n",
       "1687967             221.05       Penal Law             MARIJUANA     25-44   \n",
       "1687977             221.05       Penal Law             MARIJUANA     25-44   \n",
       "\n",
       "        SEX   RACE  JURISDICTION_CODE      BORO  PRECINCT_OF_OCCUR  \\\n",
       "1687966   M  BLACK                  2     BRONX                 40   \n",
       "1687967   M  BLACK                  0  BROOKLYN                 60   \n",
       "1687977   M  BLACK                  0     BRONX                 46   \n",
       "\n",
       "        X_COORDINATE_CD Y_COORDINATE_CD Latitude Longitude  \\\n",
       "1687966     1.00717e+06          235889  40.8141  -73.9172   \n",
       "1687967          990784          149362  40.5766  -73.9765   \n",
       "1687977     1.01183e+06          252545  40.8598  -73.9003   \n",
       "\n",
       "                                              Lon_Lat  MONTH  \n",
       "1687966  POINT (-73.91718536099995 40.81411505800003)      3  \n",
       "1687967  POINT (-73.97648039599994 40.57664597800005)      5  \n",
       "1687977  POINT (-73.90030729499995 40.85981763200005)      1  "
      ]
     },
     "execution_count": 33,
     "metadata": {},
     "output_type": "execute_result"
    }
   ],
   "source": [
    "mj_summons_2019 = mj[mj['SUMMONS_DATE'].dt.year == 2019]\n",
    "mj_summons_2019.head(3)"
   ]
  },
  {
   "cell_type": "code",
   "execution_count": 53,
   "metadata": {},
   "outputs": [],
   "source": [
    "mj_by_precinct_2019 = mj_summons_2019[['PRECINCT_OF_OCCUR', 'RACE', 'SUMMONS_KEY']].groupby(['RACE']).count()"
   ]
  },
  {
   "cell_type": "code",
   "execution_count": 54,
   "metadata": {},
   "outputs": [
    {
     "data": {
      "text/html": [
       "<div>\n",
       "<style scoped>\n",
       "    .dataframe tbody tr th:only-of-type {\n",
       "        vertical-align: middle;\n",
       "    }\n",
       "\n",
       "    .dataframe tbody tr th {\n",
       "        vertical-align: top;\n",
       "    }\n",
       "\n",
       "    .dataframe thead th {\n",
       "        text-align: right;\n",
       "    }\n",
       "</style>\n",
       "<table border=\"1\" class=\"dataframe\">\n",
       "  <thead>\n",
       "    <tr style=\"text-align: right;\">\n",
       "      <th></th>\n",
       "      <th>PRECINCT_OF_OCCUR</th>\n",
       "      <th>SUMMONS_KEY</th>\n",
       "    </tr>\n",
       "    <tr>\n",
       "      <th>RACE</th>\n",
       "      <th></th>\n",
       "      <th></th>\n",
       "    </tr>\n",
       "  </thead>\n",
       "  <tbody>\n",
       "    <tr>\n",
       "      <th>BLACK</th>\n",
       "      <td>8315</td>\n",
       "      <td>8315</td>\n",
       "    </tr>\n",
       "    <tr>\n",
       "      <th>WHITE HISPANIC</th>\n",
       "      <td>3541</td>\n",
       "      <td>3541</td>\n",
       "    </tr>\n",
       "    <tr>\n",
       "      <th>BLACK HISPANIC</th>\n",
       "      <td>1559</td>\n",
       "      <td>1559</td>\n",
       "    </tr>\n",
       "    <tr>\n",
       "      <th>WHITE</th>\n",
       "      <td>888</td>\n",
       "      <td>888</td>\n",
       "    </tr>\n",
       "    <tr>\n",
       "      <th>ASIAN / PACIFIC ISLANDER</th>\n",
       "      <td>382</td>\n",
       "      <td>382</td>\n",
       "    </tr>\n",
       "    <tr>\n",
       "      <th>UNKNOWN</th>\n",
       "      <td>183</td>\n",
       "      <td>183</td>\n",
       "    </tr>\n",
       "    <tr>\n",
       "      <th>AMERICAN INDIAN/ALASKAN NATIVE</th>\n",
       "      <td>60</td>\n",
       "      <td>60</td>\n",
       "    </tr>\n",
       "    <tr>\n",
       "      <th>OTHER</th>\n",
       "      <td>23</td>\n",
       "      <td>23</td>\n",
       "    </tr>\n",
       "  </tbody>\n",
       "</table>\n",
       "</div>"
      ],
      "text/plain": [
       "                                PRECINCT_OF_OCCUR  SUMMONS_KEY\n",
       "RACE                                                          \n",
       "BLACK                                        8315         8315\n",
       "WHITE HISPANIC                               3541         3541\n",
       "BLACK HISPANIC                               1559         1559\n",
       "WHITE                                         888          888\n",
       "ASIAN / PACIFIC ISLANDER                      382          382\n",
       "UNKNOWN                                       183          183\n",
       "AMERICAN INDIAN/ALASKAN NATIVE                 60           60\n",
       "OTHER                                          23           23"
      ]
     },
     "execution_count": 54,
     "metadata": {},
     "output_type": "execute_result"
    }
   ],
   "source": [
    "mj_by_precinct_2019.sort_values('SUMMONS_KEY', ascending=False)"
   ]
  },
  {
   "cell_type": "code",
   "execution_count": null,
   "metadata": {},
   "outputs": [],
   "source": [
    "\\\\\\\\\\\\\\\\\\\\\\\\\\\\\\\\\\\\\\\\\\\\\\"
   ]
  },
  {
   "cell_type": "code",
   "execution_count": 43,
   "metadata": {},
   "outputs": [
    {
     "data": {
      "text/plain": [
       "array([ 3,  5,  1,  2,  8,  7,  4,  6, 10,  9, 11, 12])"
      ]
     },
     "execution_count": 43,
     "metadata": {},
     "output_type": "execute_result"
    }
   ],
   "source": [
    "mj_summons_2019['MONTH'].unique()"
   ]
  },
  {
   "cell_type": "code",
   "execution_count": 120,
   "metadata": {},
   "outputs": [],
   "source": [
    "#https://gis.stackexchange.com/questions/220997/pandas-to-geojson-multiples-points-features-with-python <-found here\n",
    "#https://geoffboeing.com/2015/10/exporting-python-data-geojson/ <- adapted from here\n",
    "def df_to_geojson(df, properties, lat='Latitude', lon='Longitude'):\n",
    "    geojson = {'type':'FeatureCollection', 'features':[]}\n",
    "    for _, row in df.iterrows():\n",
    "        feature = {'type':'Feature',\n",
    "                   'properties':{},\n",
    "                   'geometry':{'type':'Point','coordinates':[]}}\n",
    "        feature['geometry']['coordinates'] = [row[lon],row[lat],0]\n",
    "        for prop in properties:\n",
    "            feature['properties'][prop] = row[prop]\n",
    "        geojson['features'].append(feature)\n",
    "    return geojson"
   ]
  },
  {
   "cell_type": "code",
   "execution_count": null,
   "metadata": {},
   "outputs": [],
   "source": []
  },
  {
   "cell_type": "code",
   "execution_count": 121,
   "metadata": {},
   "outputs": [],
   "source": [
    "cols = ['MONTH', 'RACE', 'AGE_GROUP', 'SEX']\n",
    "\n",
    "\n"
   ]
  },
  {
   "cell_type": "code",
   "execution_count": 122,
   "metadata": {},
   "outputs": [],
   "source": [
    "with open('scratch/summons_mj.geojson', 'w') as outfile:\n",
    "    json.dump(df_to_geojson(mj_summons_2019, cols), outfile)\n",
    "    "
   ]
  },
  {
   "cell_type": "code",
   "execution_count": null,
   "metadata": {},
   "outputs": [],
   "source": []
  }
 ],
 "metadata": {
  "kernelspec": {
   "display_name": "Python 3",
   "language": "python",
   "name": "python3"
  },
  "language_info": {
   "codemirror_mode": {
    "name": "ipython",
    "version": 3
   },
   "file_extension": ".py",
   "mimetype": "text/x-python",
   "name": "python",
   "nbconvert_exporter": "python",
   "pygments_lexer": "ipython3",
   "version": "3.8.3"
  }
 },
 "nbformat": 4,
 "nbformat_minor": 4
}
