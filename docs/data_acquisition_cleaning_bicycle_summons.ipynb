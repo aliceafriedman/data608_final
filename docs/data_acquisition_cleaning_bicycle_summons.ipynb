{
 "cells": [
  {
   "cell_type": "markdown",
   "metadata": {},
   "source": [
    "Data 608 Final Project, Alice Friedman\n",
    "December 13, 2020\n",
    "\n",
    "## Introduction\n",
    "\n",
    "This project will look at criminal summons data from NYC Open Data. The overall dataset include many kinds of offenses, from to possession of marijuana to riding a bicycle on a sidewalk. Because it is of personal interest, and in order to narrow the focus somewhat for the visualization, for this project I will focus just on bike-related criminal summonses.\n",
    "\n",
    "\n",
    "* *Target Audience:* Interested policy makers and advocates\n",
    "* *Research Questions:* \n",
    "    * What are the most common citations given for criminal summons related to biking, and how has the number of citations in each category changed over time?\n",
    "    * How are criminal summonses for bikes distributed across NYC by summons category?\n",
    "* *Primary Data Source:* [NYC Open Data Criminal Court Summons, 2006-2019](https://data.cityofnewyork.us/Public-Safety/NYPD-* * Criminal-Court-Summons-Historic-/sv2w-rv3k)\n",
    "* *Additional Data Source:*\n",
    "    * [NYC Police Precincts](https://data.cityofnewyork.us/Public-Safety/Police-Precincts/78dh-3ptz)\n",
    "\n",
    "## Methodology\n",
    "### Data Acquisition\n",
    "\n",
    "Because this dataset is updated annually, I have just downloaded the [CSV](https://data.cityofnewyork.us/api/views/sv2w-rv3k/rows.csv?accessType=DOWNLOAD) from the NYC Open Data website and will load from file into this Jupyter Notebook for cleaning and processing the data.\n",
    "\n",
    "### Cleaning\n",
    "\n",
    "Some of the dataset is coded from hand-written summons for a period of years, and as such there appear to be typos in the `LAW_SECTION_NUMBER` field. I will use a series of regex expressions and the pands `.str.contains` method to categorize the summons into relevant groups for analysis.\n",
    "\n",
    "### Processing for data visualization\n",
    "\n",
    "I will use javascript, CSS, and html to visualize the data as a map. As such, I will transform the csv into a geojson file for straightforward mapping using javascript. \n",
    "\n",
    "### Deployment\n",
    "\n",
    "Data, javascript, and html files will be hosted on the gh-pages branch of my [Github project repository](https://github.com/aliceafriedman/data608_final/tree/gh-pages) and deployed through [Github pages](https://pages.github.com).\n",
    "\n",
    "## Part 1: Load packages and data\n",
    "\n",
    "Import pandas, datetime, and json. \n",
    "Load data from file.\n",
    "Format relevant date fields as `datetime`."
   ]
  },
  {
   "cell_type": "code",
   "execution_count": 2,
   "metadata": {},
   "outputs": [],
   "source": [
    "import pandas as pd\n",
    "import datetime\n",
    "import json"
   ]
  },
  {
   "cell_type": "code",
   "execution_count": 3,
   "metadata": {},
   "outputs": [],
   "source": [
    "summons_raw = pd.read_csv(\"~/data608_final/docs/scratch/NYPD_Criminal_Court_Summons__Historic_.csv\")"
   ]
  },
  {
   "cell_type": "code",
   "execution_count": 4,
   "metadata": {},
   "outputs": [
    {
     "name": "stdout",
     "output_type": "stream",
     "text": [
      "<class 'pandas.core.frame.DataFrame'>\n",
      "RangeIndex: 5280675 entries, 0 to 5280674\n",
      "Data columns (total 17 columns):\n",
      " #   Column                 Dtype  \n",
      "---  ------                 -----  \n",
      " 0   SUMMONS_KEY            int64  \n",
      " 1   SUMMONS_DATE           object \n",
      " 2   OFFENSE_DESCRIPTION    object \n",
      " 3   LAW_SECTION_NUMBER     object \n",
      " 4   LAW_DESCRIPTION        object \n",
      " 5   SUMMONS_CATEGORY_TYPE  object \n",
      " 6   AGE_GROUP              object \n",
      " 7   SEX                    object \n",
      " 8   RACE                   object \n",
      " 9   JURISDICTION_CODE      int64  \n",
      " 10  BORO                   object \n",
      " 11  PRECINCT_OF_OCCUR      int64  \n",
      " 12  X_COORDINATE_CD        float64\n",
      " 13  Y_COORDINATE_CD        float64\n",
      " 14  Latitude               float64\n",
      " 15  Longitude              float64\n",
      " 16  Lon_Lat                object \n",
      "dtypes: float64(4), int64(3), object(10)\n",
      "memory usage: 684.9+ MB\n"
     ]
    }
   ],
   "source": [
    "summons_raw.info()"
   ]
  },
  {
   "cell_type": "code",
   "execution_count": 5,
   "metadata": {},
   "outputs": [],
   "source": [
    "summons = summons_raw.assign(\n",
    "    SUMMONS_DATE = pd.to_datetime(summons_raw['SUMMONS_DATE'], infer_datetime_format=True)\n",
    ").fillna('')"
   ]
  },
  {
   "cell_type": "code",
   "execution_count": 6,
   "metadata": {},
   "outputs": [
    {
     "data": {
      "text/html": [
       "<div>\n",
       "<style scoped>\n",
       "    .dataframe tbody tr th:only-of-type {\n",
       "        vertical-align: middle;\n",
       "    }\n",
       "\n",
       "    .dataframe tbody tr th {\n",
       "        vertical-align: top;\n",
       "    }\n",
       "\n",
       "    .dataframe thead th {\n",
       "        text-align: right;\n",
       "    }\n",
       "</style>\n",
       "<table border=\"1\" class=\"dataframe\">\n",
       "  <thead>\n",
       "    <tr style=\"text-align: right;\">\n",
       "      <th></th>\n",
       "      <th>SUMMONS_KEY</th>\n",
       "      <th>SUMMONS_DATE</th>\n",
       "      <th>OFFENSE_DESCRIPTION</th>\n",
       "      <th>LAW_SECTION_NUMBER</th>\n",
       "      <th>LAW_DESCRIPTION</th>\n",
       "      <th>SUMMONS_CATEGORY_TYPE</th>\n",
       "      <th>AGE_GROUP</th>\n",
       "      <th>SEX</th>\n",
       "      <th>RACE</th>\n",
       "      <th>JURISDICTION_CODE</th>\n",
       "      <th>BORO</th>\n",
       "      <th>PRECINCT_OF_OCCUR</th>\n",
       "      <th>X_COORDINATE_CD</th>\n",
       "      <th>Y_COORDINATE_CD</th>\n",
       "      <th>Latitude</th>\n",
       "      <th>Longitude</th>\n",
       "      <th>Lon_Lat</th>\n",
       "    </tr>\n",
       "  </thead>\n",
       "  <tbody>\n",
       "    <tr>\n",
       "      <th>0</th>\n",
       "      <td>82779363</td>\n",
       "      <td>2012-01-21</td>\n",
       "      <td>CONSUMPTION OF ALCOHOL</td>\n",
       "      <td>10-125</td>\n",
       "      <td>Administrative Code</td>\n",
       "      <td>ALCOHOL</td>\n",
       "      <td>18-24</td>\n",
       "      <td>M</td>\n",
       "      <td>UNKNOWN</td>\n",
       "      <td>0</td>\n",
       "      <td>QUEENS</td>\n",
       "      <td>114</td>\n",
       "      <td>1.00488e+06</td>\n",
       "      <td>216337</td>\n",
       "      <td>40.7605</td>\n",
       "      <td>-73.9255</td>\n",
       "      <td>POINT (-73.92552196099997 40.76045570900004)</td>\n",
       "    </tr>\n",
       "    <tr>\n",
       "      <th>1</th>\n",
       "      <td>82531247</td>\n",
       "      <td>2012-01-04</td>\n",
       "      <td>TRESPASS</td>\n",
       "      <td>140.05</td>\n",
       "      <td>Penal Law</td>\n",
       "      <td>TRESPASS</td>\n",
       "      <td>18-24</td>\n",
       "      <td>M</td>\n",
       "      <td>UNKNOWN</td>\n",
       "      <td>0</td>\n",
       "      <td>BROOKLYN</td>\n",
       "      <td>66</td>\n",
       "      <td>989819</td>\n",
       "      <td>173390</td>\n",
       "      <td>40.6426</td>\n",
       "      <td>-73.9799</td>\n",
       "      <td>POINT (-73.97993438499998 40.64259857300004)</td>\n",
       "    </tr>\n",
       "    <tr>\n",
       "      <th>2</th>\n",
       "      <td>82438784</td>\n",
       "      <td>2011-12-22</td>\n",
       "      <td>DISORDERLY CONDUCT</td>\n",
       "      <td>240.20</td>\n",
       "      <td>Penal Law</td>\n",
       "      <td>DISORDERLY CONDUCT</td>\n",
       "      <td>25-44</td>\n",
       "      <td>M</td>\n",
       "      <td>UNKNOWN</td>\n",
       "      <td>0</td>\n",
       "      <td>BROOKLYN</td>\n",
       "      <td>75</td>\n",
       "      <td>1.0126e+06</td>\n",
       "      <td>180697</td>\n",
       "      <td>40.6626</td>\n",
       "      <td>-73.8978</td>\n",
       "      <td>POINT (-73.89783021099998 40.66261107900005)</td>\n",
       "    </tr>\n",
       "    <tr>\n",
       "      <th>3</th>\n",
       "      <td>82492995</td>\n",
       "      <td>2012-01-04</td>\n",
       "      <td>DISCON: REFUSE LAWFUL ORDER</td>\n",
       "      <td>240.20-6</td>\n",
       "      <td>Penal Law</td>\n",
       "      <td>DISORDERLY CONDUCT</td>\n",
       "      <td>25-44</td>\n",
       "      <td>M</td>\n",
       "      <td>UNKNOWN</td>\n",
       "      <td>0</td>\n",
       "      <td>MANHATTAN</td>\n",
       "      <td>25</td>\n",
       "      <td>999783</td>\n",
       "      <td>231214</td>\n",
       "      <td>40.8013</td>\n",
       "      <td>-73.9439</td>\n",
       "      <td>POINT (-73.94389716799999 40.80129956200005)</td>\n",
       "    </tr>\n",
       "    <tr>\n",
       "      <th>4</th>\n",
       "      <td>82242457</td>\n",
       "      <td>2011-12-18</td>\n",
       "      <td>CONSUMPTION OF ALCOHOL</td>\n",
       "      <td>10-125</td>\n",
       "      <td>Administrative Code</td>\n",
       "      <td>ALCOHOL</td>\n",
       "      <td>25-44</td>\n",
       "      <td>M</td>\n",
       "      <td>UNKNOWN</td>\n",
       "      <td>0</td>\n",
       "      <td>QUEENS</td>\n",
       "      <td>101</td>\n",
       "      <td>1.05347e+06</td>\n",
       "      <td>160237</td>\n",
       "      <td>40.6062</td>\n",
       "      <td>-73.7507</td>\n",
       "      <td>POINT (-73.75071308299994 40.60622774700005)</td>\n",
       "    </tr>\n",
       "  </tbody>\n",
       "</table>\n",
       "</div>"
      ],
      "text/plain": [
       "   SUMMONS_KEY SUMMONS_DATE          OFFENSE_DESCRIPTION LAW_SECTION_NUMBER  \\\n",
       "0     82779363   2012-01-21       CONSUMPTION OF ALCOHOL             10-125   \n",
       "1     82531247   2012-01-04                     TRESPASS             140.05   \n",
       "2     82438784   2011-12-22           DISORDERLY CONDUCT             240.20   \n",
       "3     82492995   2012-01-04  DISCON: REFUSE LAWFUL ORDER           240.20-6   \n",
       "4     82242457   2011-12-18       CONSUMPTION OF ALCOHOL             10-125   \n",
       "\n",
       "       LAW_DESCRIPTION SUMMONS_CATEGORY_TYPE AGE_GROUP SEX     RACE  \\\n",
       "0  Administrative Code               ALCOHOL     18-24   M  UNKNOWN   \n",
       "1            Penal Law              TRESPASS     18-24   M  UNKNOWN   \n",
       "2            Penal Law    DISORDERLY CONDUCT     25-44   M  UNKNOWN   \n",
       "3            Penal Law    DISORDERLY CONDUCT     25-44   M  UNKNOWN   \n",
       "4  Administrative Code               ALCOHOL     25-44   M  UNKNOWN   \n",
       "\n",
       "   JURISDICTION_CODE       BORO  PRECINCT_OF_OCCUR X_COORDINATE_CD  \\\n",
       "0                  0     QUEENS                114     1.00488e+06   \n",
       "1                  0   BROOKLYN                 66          989819   \n",
       "2                  0   BROOKLYN                 75      1.0126e+06   \n",
       "3                  0  MANHATTAN                 25          999783   \n",
       "4                  0     QUEENS                101     1.05347e+06   \n",
       "\n",
       "  Y_COORDINATE_CD Latitude Longitude  \\\n",
       "0          216337  40.7605  -73.9255   \n",
       "1          173390  40.6426  -73.9799   \n",
       "2          180697  40.6626  -73.8978   \n",
       "3          231214  40.8013  -73.9439   \n",
       "4          160237  40.6062  -73.7507   \n",
       "\n",
       "                                        Lon_Lat  \n",
       "0  POINT (-73.92552196099997 40.76045570900004)  \n",
       "1  POINT (-73.97993438499998 40.64259857300004)  \n",
       "2  POINT (-73.89783021099998 40.66261107900005)  \n",
       "3  POINT (-73.94389716799999 40.80129956200005)  \n",
       "4  POINT (-73.75071308299994 40.60622774700005)  "
      ]
     },
     "execution_count": 6,
     "metadata": {},
     "output_type": "execute_result"
    }
   ],
   "source": [
    "summons.head()"
   ]
  },
  {
   "cell_type": "markdown",
   "metadata": {},
   "source": [
    "## Part 2: Data Cleaning"
   ]
  },
  {
   "cell_type": "markdown",
   "metadata": {},
   "source": [
    "A quick look at the data reveals that many bike-related offenses are not listed under the `BIKE` summons category type. I will select out all the bike-related fields by filtering for rows that match any of three conditions:\n",
    "* \"BICYCLE\" appears in the offense description\n",
    "* \"BIKE\" appears in the offense description\n",
    "* \"BIKE\" is the summons category\n",
    "\n",
    "Once this is done, we can see what kind of offenses are listed in the data."
   ]
  },
  {
   "cell_type": "code",
   "execution_count": 7,
   "metadata": {},
   "outputs": [],
   "source": [
    "cond1 = summons['OFFENSE_DESCRIPTION'].str.contains(\"BICYCLE\")\n",
    "cond2 = summons['OFFENSE_DESCRIPTION'].str.contains(\"BIKE\")\n",
    "cond3 = summons['SUMMONS_CATEGORY_TYPE'] == 'BIKE'"
   ]
  },
  {
   "cell_type": "code",
   "execution_count": 8,
   "metadata": {},
   "outputs": [
    {
     "data": {
      "text/html": [
       "<div>\n",
       "<style scoped>\n",
       "    .dataframe tbody tr th:only-of-type {\n",
       "        vertical-align: middle;\n",
       "    }\n",
       "\n",
       "    .dataframe tbody tr th {\n",
       "        vertical-align: top;\n",
       "    }\n",
       "\n",
       "    .dataframe thead th {\n",
       "        text-align: right;\n",
       "    }\n",
       "</style>\n",
       "<table border=\"1\" class=\"dataframe\">\n",
       "  <thead>\n",
       "    <tr style=\"text-align: right;\">\n",
       "      <th></th>\n",
       "      <th>SUMMONS_KEY</th>\n",
       "      <th>SUMMONS_DATE</th>\n",
       "      <th>OFFENSE_DESCRIPTION</th>\n",
       "      <th>LAW_SECTION_NUMBER</th>\n",
       "      <th>LAW_DESCRIPTION</th>\n",
       "      <th>SUMMONS_CATEGORY_TYPE</th>\n",
       "      <th>AGE_GROUP</th>\n",
       "      <th>SEX</th>\n",
       "      <th>RACE</th>\n",
       "      <th>JURISDICTION_CODE</th>\n",
       "      <th>BORO</th>\n",
       "      <th>PRECINCT_OF_OCCUR</th>\n",
       "      <th>X_COORDINATE_CD</th>\n",
       "      <th>Y_COORDINATE_CD</th>\n",
       "      <th>Latitude</th>\n",
       "      <th>Longitude</th>\n",
       "      <th>Lon_Lat</th>\n",
       "    </tr>\n",
       "  </thead>\n",
       "  <tbody>\n",
       "    <tr>\n",
       "      <th>9</th>\n",
       "      <td>82337740</td>\n",
       "      <td>2011-12-26</td>\n",
       "      <td>BICYCLE ON SIDEWALK</td>\n",
       "      <td>19-176</td>\n",
       "      <td>Administrative Code</td>\n",
       "      <td>BIKE</td>\n",
       "      <td>45-64</td>\n",
       "      <td>M</td>\n",
       "      <td>UNKNOWN</td>\n",
       "      <td>0</td>\n",
       "      <td>QUEENS</td>\n",
       "      <td>104</td>\n",
       "      <td>1.01415e+06</td>\n",
       "      <td>194928</td>\n",
       "      <td>40.7017</td>\n",
       "      <td>-73.8922</td>\n",
       "      <td>POINT (-73.89218021299999 40.701666816000056)</td>\n",
       "    </tr>\n",
       "    <tr>\n",
       "      <th>26</th>\n",
       "      <td>82542243</td>\n",
       "      <td>2012-01-07</td>\n",
       "      <td>BICYCLE ON SIDEWALK</td>\n",
       "      <td>19-176</td>\n",
       "      <td>Administrative Code</td>\n",
       "      <td>BIKE</td>\n",
       "      <td>25-44</td>\n",
       "      <td>M</td>\n",
       "      <td>UNKNOWN</td>\n",
       "      <td>0</td>\n",
       "      <td>MANHATTAN</td>\n",
       "      <td>19</td>\n",
       "      <td>998116</td>\n",
       "      <td>220568</td>\n",
       "      <td>40.7721</td>\n",
       "      <td>-73.9499</td>\n",
       "      <td>POINT (-73.94994024599998 40.77208191000005)</td>\n",
       "    </tr>\n",
       "    <tr>\n",
       "      <th>59</th>\n",
       "      <td>82438691</td>\n",
       "      <td>2012-01-02</td>\n",
       "      <td>BICYCLE ON SIDEWALK</td>\n",
       "      <td>19-176</td>\n",
       "      <td>Administrative Code</td>\n",
       "      <td>BIKE</td>\n",
       "      <td>18-24</td>\n",
       "      <td>M</td>\n",
       "      <td>UNKNOWN</td>\n",
       "      <td>0</td>\n",
       "      <td>BROOKLYN</td>\n",
       "      <td>70</td>\n",
       "      <td>993792</td>\n",
       "      <td>167768</td>\n",
       "      <td>40.6272</td>\n",
       "      <td>-73.9656</td>\n",
       "      <td>POINT (-73.96562622399993 40.62716398700008)</td>\n",
       "    </tr>\n",
       "  </tbody>\n",
       "</table>\n",
       "</div>"
      ],
      "text/plain": [
       "    SUMMONS_KEY SUMMONS_DATE  OFFENSE_DESCRIPTION LAW_SECTION_NUMBER  \\\n",
       "9      82337740   2011-12-26  BICYCLE ON SIDEWALK             19-176   \n",
       "26     82542243   2012-01-07  BICYCLE ON SIDEWALK             19-176   \n",
       "59     82438691   2012-01-02  BICYCLE ON SIDEWALK             19-176   \n",
       "\n",
       "        LAW_DESCRIPTION SUMMONS_CATEGORY_TYPE AGE_GROUP SEX     RACE  \\\n",
       "9   Administrative Code                  BIKE     45-64   M  UNKNOWN   \n",
       "26  Administrative Code                  BIKE     25-44   M  UNKNOWN   \n",
       "59  Administrative Code                  BIKE     18-24   M  UNKNOWN   \n",
       "\n",
       "    JURISDICTION_CODE       BORO  PRECINCT_OF_OCCUR X_COORDINATE_CD  \\\n",
       "9                   0     QUEENS                104     1.01415e+06   \n",
       "26                  0  MANHATTAN                 19          998116   \n",
       "59                  0   BROOKLYN                 70          993792   \n",
       "\n",
       "   Y_COORDINATE_CD Latitude Longitude  \\\n",
       "9           194928  40.7017  -73.8922   \n",
       "26          220568  40.7721  -73.9499   \n",
       "59          167768  40.6272  -73.9656   \n",
       "\n",
       "                                          Lon_Lat  \n",
       "9   POINT (-73.89218021299999 40.701666816000056)  \n",
       "26   POINT (-73.94994024599998 40.77208191000005)  \n",
       "59   POINT (-73.96562622399993 40.62716398700008)  "
      ]
     },
     "execution_count": 8,
     "metadata": {},
     "output_type": "execute_result"
    }
   ],
   "source": [
    "bikesDF=summons[cond1 | cond2 | cond3]\n",
    "bikesDF.head(3)"
   ]
  },
  {
   "cell_type": "code",
   "execution_count": 9,
   "metadata": {},
   "outputs": [
    {
     "data": {
      "text/plain": [
       "array(['BICYCLE ON SIDEWALK', 'BICYCLE INFRACTION (COMMERCIAL)',\n",
       "       'BIKE IN PARK', 'BICYCLE (OTHER)', 'NOISE (ENGINE EXHAUST)',\n",
       "       'NOISE (UNREASONABLE)', 'BICYCLE NO SAFETY HELMET',\n",
       "       'BICYCLE NO BELL', 'BICYCLE NO REFLECTOR VEST',\n",
       "       'CONSUMPTION OF ALCOHOL', 'BICYCLE NO LIGHTS', 'BICYCLE NO BRAKES',\n",
       "       'RECKLESS LY RIDE BIKE ON SIDEWALK', 'NO COMMERCIAL BIKE ID',\n",
       "       'RECKLESS OPERATION OF BICYCLE', 'COMM BIKE NO PLATE',\n",
       "       'RECKLESS OPERATION OF BIKE', 'RECKLESS BICYCLE',\n",
       "       'FAIL TO PRODUCE COMM BIKE ID', 'NO COMMERCIAL BICYCLE ID',\n",
       "       'RECKLESS OPERATION OF A BICYCLE', 'FAIL TO PRODUCE COM BIKE ID',\n",
       "       'NO COMM BIKE ID', 'NO COMMERCIA;L BIKE ID',\n",
       "       'RECKLESS OPERATION BICYCLE',\n",
       "       'RIDING BICYCLE WHILE LISTENING TO AUDIO DEVICE',\n",
       "       'NO COMMERCIAL BIKE PLATE', 'RECKLES  OPERATION OF BICYCLE',\n",
       "       'RECKLESS OPERATION OF A BIKE', 'OPERATE BICYCLE ON SIDEWALK',\n",
       "       'RECKLESS OEPRATION OF BICYCLE', 'NO COMM BIKE PLATE',\n",
       "       'RECKLESS OPERATION BIKE', 'FAILED TO USE BIKE LANE',\n",
       "       'RECKLESS OPERATION ON BIKE', 'RIDING BIKE ON THE SIDEWALK',\n",
       "       'NO COMMERCIAL ID BIKE DELIVERY', 'NO COMMERICAL BIKE ID',\n",
       "       'NO BICYCLE ID', 'RECKLESS OPERATION ON BICYCLE',\n",
       "       'DISCON RIDING BIKE AGAINST VEH TRAFFIC',\n",
       "       'BIKE GOING WRONG WAY ON STREET', 'FAIL TO AFIX ID TO BIKE',\n",
       "       'RECKL ESS OPERATION OF A BIKE',\n",
       "       'RING MINI BIKE IN THE WRONG DIRECTION',\n",
       "       'RECKLESS OPERATION OF  A BICYCLE',\n",
       "       'FAIL TO AFFIX ID PLATE TO BICYCLE', 'OPERATE BIKE ON SIDEWALK',\n",
       "       'RECKLESS OPERATIONOF BICYCLE', 'NO FIRM BICYCLE ID',\n",
       "       'FAILURE TO PRODUCE COMM BIKE', 'FAILURE TO PRODUCE COMM BIKE ID',\n",
       "       'RECKLESS OPERATION  OF A  BICYCLE',\n",
       "       'RECKLESS OPERATION  OF BICYCLE', 'RECKLESS BIKE ON SIDEWALK',\n",
       "       'RIDE WITH HANDS OFF BIKE', 'FAIL TO AFFIX I.D. PLATE TO BICYCLE',\n",
       "       'BIKE NO BELL', 'FAILED TO USE BIKE PATH',\n",
       "       'FAIL TO PRODUCE COMMERCIAL BIKE ID',\n",
       "       'OPERATING BICYCLE ON SIDEWALK', 'RIDING MOTOR BIKE ON WALKWAY',\n",
       "       'RIDING A BIKE ON SUBWAY PLATFORM', 'FAILURE TO AFFIX BIKE PLATE',\n",
       "       'NO COMMERCILA BIKE ID', 'NO COMMERCIAL ID (BIKE)',\n",
       "       'FAIL TO AFFIX ID PLATE TO BIKE', 'NO BELL', 'NO COMM BICYCLE ID',\n",
       "       'RIDING BICYCLE ON SIDEWALK', 'HANDS OFF BICYCLE',\n",
       "       'FAILED TO AFFIX ID PLATE TO BIKE', 'RIDING BIKE ON SIDEWALK',\n",
       "       'RIDING BIKE O SIDEWALK', 'RECKLESS OP OF  A BIKE',\n",
       "       'FAIL TO AFFIX PLATE TO BIKE', 'WRONG WAY BICYCLE',\n",
       "       'OPER BIKE ON SIDEWALK', 'RECKLESS OP OF BICYCLE',\n",
       "       'RECKLESS OEPRATION OF BIKE', 'BICYCLE ON SIDE WALK',\n",
       "       'NO COMMERCIAL ID / BIKE', 'FAILED TO PRODUCE A COMM BIKE ID',\n",
       "       'RIDING BIKE ON SIDE', 'TWO EARPHONES WHILE RIDING BIKE',\n",
       "       'NO COMMERCIAL ID BIKE', 'BIKE/SIDEWALK',\n",
       "       'NO COMMERCIAL BIKE I.D.', 'NO BICYCLE COMM ID',\n",
       "       'TOO MANY PEOPLE ON BIKE', 'RECKLESS BIKE',\n",
       "       'FAIL TO AFFIX ID PLATE ON BIKE',\n",
       "       'RECKLESS OPERATE A BICYCLE ON SIDEWALK', 'RIDE BIKE ON SIDEWALK',\n",
       "       'BUSINESS NAME NO DISPLAYED ON BIKE',\n",
       "       'RECKLESS OPERATION OF BICYCLE ON SIDEWAL',\n",
       "       'FAIL TO AFFIX ID TO BICYCLE',\n",
       "       'FAIL TO AFFIX LICENSE PLATE ON BIKE', 'NO BIKE ID',\n",
       "       'FAILED TO AFFIX ID PLATE ON BIKE',\n",
       "       'RECKLESS OPER OF A BICYCLE ON PUBLIC SID',\n",
       "       'OPERATING BIKE ON A SIDEWALK', 'NO COMM BIKE I.D',\n",
       "       'NO COM  BIKE ID', 'RECKLESS OPERATION OF BICYCLE(SIDEWALK)',\n",
       "       'OPERATION/BIKE ON SIDEWALK', 'OPERATION BICYCLE ON SIDEWALK',\n",
       "       'NO ID PLATE ON BIKE', 'RECKLESS OPER OF BICYCLE',\n",
       "       'RECKLESS OPER OF BIKE', 'RIDING MORE THAN 2 ABREAST TO BIKE',\n",
       "       'OPERATE BIKE W/2 EARSET ON', 'BIKE ON SIDE WALK',\n",
       "       'OPERATING BIKE ON SIDEWALK', 'RECKLESS BIKE OPERATION',\n",
       "       'NO BIKE COMM ID', 'BIKE NO LIGHTS',\n",
       "       'MORE THAN ONE PERSON ON BIKE', 'RIDING A BICYCLE ON THE SIDEWALK',\n",
       "       'RIDING RECKLESS OPERATION OF BICYCLE',\n",
       "       'FAIL TO CARRY/PRODUCE BIKE ID', 'HOLDING TO VEH WHILE ON BICYCLE',\n",
       "       'BICYCLE OB SIDEWALK', 'BIKE',\n",
       "       'FAIL TO PRODUCE VALID COMM BIKE ID', 'RECKLESS OPER BICYCLE',\n",
       "       'RIDING BIKE IN PARK', 'NO BELL ON BIKE',\n",
       "       'RECKLESS DRIVEN /BICYCLE', 'UNREGISTERED MOTORBIKE',\n",
       "       'TOO MANY ON BIKE', 'RECKLESS OERATION OF BICYCLE (SIDEWALK)',\n",
       "       'BIKE WHERE PROHIBITED', 'RECK OPER OF A BIKE',\n",
       "       'RECKLESS OPERATION OF BICYCLE (SIDEWALK)',\n",
       "       'OPERATING BICYCLE WITH 2 EAR HEADSET',\n",
       "       'RECKLESS OPERATION OF BICYCLE (WRONG WAY',\n",
       "       'RECKLESS OPEARTION BICYCLE', 'RECKLESS DRIVEN / BICYCLE',\n",
       "       'RECKLESS  OPERATION OF BICYCLE', 'BICYCLE RIDING ON PATHWAY',\n",
       "       'BIKE FAIL TO YIELD TO PEDESTRIAN',\n",
       "       'NO VALID BICYCLE IDENTIFICATION', 'OPERATE BIKE ON SIDWALK',\n",
       "       'BICYCLE-OPER DISOBEY ONE WAY SIGN', 'RECKLESS DRIVING OF BICYCLE',\n",
       "       'DISOBEY PARK SIGN BICYCLE', 'RECKLESS OEPRATION BICYCLE',\n",
       "       'RECKLESSLY BIKE ON SIDEWALK', 'RIDE BIKE SIDEWALK',\n",
       "       'RECKLESS BIKE OP', 'RIDINDING BIKE ON SIDEWALK',\n",
       "       'RECKLESS OPERATION OG BIKE', 'RIDING BIKE WRONG WAY',\n",
       "       'FAIL TO PRODUCE COMMERCIAL ID BIKE', 'FAIL TO AFFIX ID TO BIKE',\n",
       "       'RIDING A BIKE ON SIDEWALK', 'RECLESS OPERATIN OF BIKE',\n",
       "       'BIKE----------------FAIL TO ISSUE ID',\n",
       "       'MORE THAN ONE PERSON RIDING ON BIKE',\n",
       "       'OPERATE BIKE IN RECKLESS MANNER',\n",
       "       'OPERATING BICYCLE WITH NO HELMET',\n",
       "       'FAILURE TO CARRY COMMERCIAL BIKE ID',\n",
       "       'WRECKLESS OPERATION OF A BICYCLE',\n",
       "       'OPERATE BIKE IN RECLESS MANNER',\n",
       "       'DELIVERY BIKES MUST CARRY SIGN & ID',\n",
       "       'NO COMMERCIAL BIKE ID FROM FIRM', 'RECKLESS OPERATON OF BIKE',\n",
       "       'FAIL TO PRODUCE ID - BIKE', 'OPERATING BICYCLE SIDEWALK',\n",
       "       'FAIL TO CARRY ID - BIKE DELV', 'FAIL TO CARRY ID - BIKE',\n",
       "       'RECKLESS OPERATI0ON OF A BICYCLE', 'DISOBEY SIGN (BIKE ON PATH)',\n",
       "       'RECKLESS OEPRATING A BICYCLE', 'RIDING ON SIDEWALK BIKE',\n",
       "       'RECKLESS OPERATION OF BIKE (COMM)',\n",
       "       'DELIVERY BIKES MUST CARRY ID & SIGN', 'NO BIKE ID (COMM)',\n",
       "       'INTERFER WITH TRAFFIC ,NOT IN BIKE LANE',\n",
       "       'FAIL TO MAINTAIN LOGBOOK  - BIKE', 'RECKLESS OP OF BIKE',\n",
       "       'RIDING ON HANDLE BARS OF BIKE IN THE STR',\n",
       "       'DELIVERY BIKE MUST CARRY ID', 'NO COMMERCIAL BIKE',\n",
       "       'RECKLESS OPERATION  OF BIKE', 'BIKE ON WALKWAY',\n",
       "       'BIKE RIDING ON GRASS', 'RECLESS OPERATION OF BIKE',\n",
       "       'NO COMM  BIKE ID', 'NO DELIVERY BIKE ID',\n",
       "       'DELIVERY BIKE MUST CARRY WORK ID & SIGN', 'BIKE ON SIDWALK',\n",
       "       'NO BIKE MESSENGER ID', 'DELIVERY BIKES MUST CARRY VALID COMMERCI',\n",
       "       'RECKLESS OPERATON OF BICYCLE', 'DRIVING WRONG WAY ON BICYCLE',\n",
       "       'RIDIG BICYCLE ON SIDEWALK', 'RECKLESS OPERATION ON A BICYCLE',\n",
       "       'BIKE RIDING INSIDE PARK', 'FAIL TO COMPLY NO BIKE ON BOARDWALK',\n",
       "       'TOO MANY PEOPLE ON BICYCLE', 'RIDING BIKE IN SIDEWALK',\n",
       "       'OPERTATE BIKE', 'RIDING BIKE SIDEWALK',\n",
       "       'DISOBEY PARK SIGN BICYCLE ON BOARDWALK', 'NO ID PLATE ON BICYCLE',\n",
       "       'RECKLESS OPERATOR OF BICYCLE',\n",
       "       'MUST BEAR ID AND SIGN(DELIVERY BIKE)',\n",
       "       'FAILURE TO PRODUCE COMMERCIAL BIKE ID',\n",
       "       'DELIVERY BIKE MUST BEAR ID & SIGN',\n",
       "       'DELIVERY BIKE MUST BEAR WORK ID AND SIGN',\n",
       "       'DISOBEY PARK SIGN (BICYCLE)',\n",
       "       'DELIVERY BIKE MUST CARRY ID AND SIGN',\n",
       "       'DELIVERY BIKE MUST CARRY ID & SIGN',\n",
       "       'NO BICYCLE RIDING ON PATHWAYS',\n",
       "       'NO BICYCLE RIDING ON  PEDESTRIAN PATHWAY', 'NO COMMECIAL BIKE ID',\n",
       "       'RIDING BIKE ON THE SIDE WALK', 'BIKE  ON SIDEWALK',\n",
       "       'OPER A VEH IN BIKE LANE.',\n",
       "       'FAILURE OF BUSINESS TO KEEP BIKE LOG BOO',\n",
       "       'DELIVERY BIKES MUST HAVE ID',\n",
       "       'FAILURE TO PRODUCE COMMERCIAL  BIKE ID',\n",
       "       'BIKE DELIVERY MUST CARRY WORK ID SIGN',\n",
       "       'RIDING BIKE ON SIDE WALK', 'RIDING BIKE ON THE SIDWALK',\n",
       "       'BIKE DEV MUST CARRY WORK ID & SIGN', 'BIKE ON THE SIDEWALK',\n",
       "       'FAIL TO USE BIKE LANE UNSAFE', 'RIDING BICYCLE ON PATHWAY',\n",
       "       'RIDING BIKEON THE SIDEWALK',\n",
       "       'OPERATING BICYCLE IN WRONG DIRECTION',\n",
       "       'BICYCLE RIDING ON PEDESTRIAN PATHWAY',\n",
       "       'DELIVERY BIKE MUST CARRY ID SIGN', 'BIKE ON SIDEWALK OVER 16',\n",
       "       'BIKEM ON SIDEWALK', 'BICYCLE OPERATION SIDEWALK',\n",
       "       'BIKE AGAINST TRAFFIC', 'FAIL TO CARRY ID FOR COMM BIKE DELV',\n",
       "       'NO BELL SIGNAL DEVICE ON BIKE', 'NO BIKE RIDING SIDEWAlk',\n",
       "       'DELIVERY BIKE MUST CARRY ID (WORK)',\n",
       "       'UNLAWFUL BICYCLE RIDING ON SIDEWALK', 'NO BELLON BICYCLE',\n",
       "       'DELIVERY BIKE MUST BEAR WT SIGN', 'RECKLESS USE OF BICYCLE',\n",
       "       'RECKLESS USE OF BIKE', 'RECKLESSOPERATION OF BICYCLE',\n",
       "       'RECKLESS OPERATION OF A BICYCLE *( C SUMMONS)*',\n",
       "       'USE OF ROADWAYS, PEDESTRIANS, HORSES, BICYCLES AND LIMITED USE VEHICLES PROHIBIT',\n",
       "       'OPERATE BIKE ON SIDEWALK *(NOT A C SUMMONS)*',\n",
       "       'BICYCLE IN PLAYGROUND; RIDE ON',\n",
       "       'OPERATE BICYCLE IN A RECKLESS MANNER',\n",
       "       'SIGNS; FAIL TO OBEY PERTINENT (BICYCLE)',\n",
       "       'NOT IN A BIKE LANE OR IN THE RIGHT HAND SIDE OF TRAFFIC',\n",
       "       'NO TRIP SHEET', 'FAILURE TO COMPLY WITH SIGN',\n",
       "       'URINATING IN PUBLIC'], dtype=object)"
      ]
     },
     "execution_count": 9,
     "metadata": {},
     "output_type": "execute_result"
    }
   ],
   "source": [
    "bikesDF['OFFENSE_DESCRIPTION'].unique()"
   ]
  },
  {
   "cell_type": "code",
   "execution_count": 10,
   "metadata": {},
   "outputs": [
    {
     "data": {
      "text/plain": [
       "array(['19-176', '10-157', '1-05I', '1236', '24-227', '24-218', '1238',\n",
       "       '1236-B', '10-125', '1236-A', '1236-C', '', '1-05F', '4-07 C31',\n",
       "       '19-176C', '10-1572B', '19-1761B', '10-1522B', '10-157F',\n",
       "       '19-176B', '407 C31', '375.24A', '9999', '4-07C31', '1232 B',\n",
       "       '4-07C', '19-171 C', '4007C31', '131', '10-157B', '4-07.C3I',\n",
       "       '10-157A1', '407 3', '407.3', '4-07 C3', '4-07.C3i', '10-1252B',\n",
       "       '4-07C3-1', '14-17', '1-176B', '10-176B', '407C31', '407 C3-1',\n",
       "       '10-1572D', '1176B', '1234.B', '375.24A1', '19-176-3', '19-171C',\n",
       "       '407', '19-176 C', '1232 B`', '4-07C3I', '4-07CB1', '4-107 C3',\n",
       "       '4-07C(3)', '1233', '407-C 3', '19-176 B', '1-03C', '1225A',\n",
       "       '2261.1', '1232', '19-1776', '1233 1', '4-07 631', '19-176F',\n",
       "       '375-24', '14-176', '101572B', '19171C', '4-07G3-1', '19-1762B',\n",
       "       '105.I2', '105.I', '10157B', '1121-76', '19176B', '407C3', '512',\n",
       "       '103C', '19-76B', '407.C3L', '414C', '1234 A', '4073', '15309',\n",
       "       '407-C3', '407.C31', '1234.A', '407-3', '4-07C3L', '4 07 C31',\n",
       "       '407.C3', '40731', '407C3i', '19', '407 C3(1', '407.3CI',\n",
       "       '19 176 B', '10-157S', '10 176', '4-0731', '4-0131', '10157S',\n",
       "       '4-07C3', '407 C3I', '19176C', '4-07 3I', '103.C2', '21-01C31',\n",
       "       '1232B', '14-176D', '14476.C', '120.2', '30J', '1234', '10-157C',\n",
       "       '412.P1', '10157 B', '19 1762B', '1107C31', '519 176', '19 -176',\n",
       "       '10-176C', '19-157B', '407.C3I', '10-175B', '10-75A1', '19-716',\n",
       "       '1127 A', '10-131C', '407-31', '10-157BA', '19176 C', '19-1572B',\n",
       "       '407-B1', '4-07 C3I', '1124', '4-07 c31', '19 176', '105I',\n",
       "       '10=157B', '1-03.C2', '1232(B)', '10-157E', '407C', '10-176',\n",
       "       '191763', '10-152F', '10-157A', '1-03 C2', '191762B', '436-15 A',\n",
       "       '4-07C3i', '10157A', '407 c3i', '103.C1', '4.07 C31', '407C3I',\n",
       "       '19.176B', '10-152A1', '10-1572C', '19-176 2', '43615A1', '1127 B',\n",
       "       '4-07.C7I', '47C31', '436-15.0', '1015', '1236 B', '19-136 B',\n",
       "       '19176', '4-07 C3i', '101252B', '1236B', '1917BC', '4 07 C3',\n",
       "       '19 176C', '7-Apr', '19-176(B)', '4-12(O)(1)', '4-07C(3)(1)',\n",
       "       '1-05(I)', '1234(A)', '228', '1-03', '16-1186'], dtype=object)"
      ]
     },
     "execution_count": 10,
     "metadata": {},
     "output_type": "execute_result"
    }
   ],
   "source": [
    "bikesDF['LAW_SECTION_NUMBER'].unique()"
   ]
  },
  {
   "cell_type": "code",
   "execution_count": 11,
   "metadata": {},
   "outputs": [
    {
     "name": "stdout",
     "output_type": "stream",
     "text": [
      "<class 'pandas.core.frame.DataFrame'>\n",
      "Int64Index: 263412 entries, 9 to 5280674\n",
      "Data columns (total 17 columns):\n",
      " #   Column                 Non-Null Count   Dtype         \n",
      "---  ------                 --------------   -----         \n",
      " 0   SUMMONS_KEY            263412 non-null  int64         \n",
      " 1   SUMMONS_DATE           263412 non-null  datetime64[ns]\n",
      " 2   OFFENSE_DESCRIPTION    263412 non-null  object        \n",
      " 3   LAW_SECTION_NUMBER     263412 non-null  object        \n",
      " 4   LAW_DESCRIPTION        263412 non-null  object        \n",
      " 5   SUMMONS_CATEGORY_TYPE  263412 non-null  object        \n",
      " 6   AGE_GROUP              263412 non-null  object        \n",
      " 7   SEX                    263412 non-null  object        \n",
      " 8   RACE                   263412 non-null  object        \n",
      " 9   JURISDICTION_CODE      263412 non-null  int64         \n",
      " 10  BORO                   263412 non-null  object        \n",
      " 11  PRECINCT_OF_OCCUR      263412 non-null  int64         \n",
      " 12  X_COORDINATE_CD        263412 non-null  object        \n",
      " 13  Y_COORDINATE_CD        263412 non-null  object        \n",
      " 14  Latitude               263412 non-null  object        \n",
      " 15  Longitude              263412 non-null  object        \n",
      " 16  Lon_Lat                263412 non-null  object        \n",
      "dtypes: datetime64[ns](1), int64(3), object(13)\n",
      "memory usage: 36.2+ MB\n"
     ]
    }
   ],
   "source": [
    "bikesDF.info()"
   ]
  },
  {
   "cell_type": "markdown",
   "metadata": {},
   "source": [
    "## Data Cleaning\n",
    "Having inspected the data and looked up the corresponding administrative code sections listed above, the vast majority of the summons fall into three categories: Bike on Sidewalk, Bike in Park, or Commercial Biking Infraction. A few are equipment violations, which is sometimes a term used to include helmet violations (helmets are required for children and delivery cyclist in NYC, and under recent law for riders of certain types of e-bikes). \n",
    "\n",
    "The following attempts to correct what appear to be typos or inconsistencies in the data by grouping the data into one of 5 categories, based on a combination of the words in the offense description field, and grouping law section numbers that humans would read as the same into one group using `regex`, for example \"4-05i\" refers to the same part of the Administrative Code as \"4.05I\".\n",
    "\n",
    "The five categories are:\n",
    "* Bikes on Sidewalk\n",
    "* Biking in Park\n",
    "* Equipment\n",
    "* Commercial Biking Violations (Delivery Cyclists)\n",
    "* Other or Unknown"
   ]
  },
  {
   "cell_type": "markdown",
   "metadata": {},
   "source": [
    "### Equipment\n",
    "Typically this is missing lights or bells. Some of the citations list breaks. A few number of the summons refer to section 1228, which requires helmets on children below a certain age. As these are a small number of summons, I have grouped them together. "
   ]
  },
  {
   "cell_type": "code",
   "execution_count": 12,
   "metadata": {},
   "outputs": [],
   "source": [
    "#individual conditions\n",
    "bell = bikesDF['OFFENSE_DESCRIPTION'].str.contains(\"BELL\")\n",
    "helmet = bikesDF['OFFENSE_DESCRIPTION'].str.contains(\"HELMET\")\n",
    "breaks = bikesDF['OFFENSE_DESCRIPTION'].str.contains(\"BREAKS\")\n",
    "equip_law = bikesDF['LAW_SECTION_NUMBER'].str.contains('123[6|8]', regex=True) \n",
    "\n",
    "#defintion of group of conditions\n",
    "equipment = bell | helmet | breaks | equip_law "
   ]
  },
  {
   "cell_type": "markdown",
   "metadata": {},
   "source": [
    "### Biking in Park\n",
    "Biking in a park is illegal unless marked and signed -- many people do not know this! This is generally cited as \"1-05i\""
   ]
  },
  {
   "cell_type": "code",
   "execution_count": 13,
   "metadata": {},
   "outputs": [
    {
     "name": "stderr",
     "output_type": "stream",
     "text": [
      "/Users/alice/anaconda3/lib/python3.8/site-packages/pandas/core/strings.py:1954: UserWarning: This pattern has match groups. To actually get the groups, use str.extract.\n",
      "  return func(self, *args, **kwargs)\n"
     ]
    }
   ],
   "source": [
    "park = bikesDF['LAW_SECTION_NUMBER'].str.contains('(1)\\s?\\W?\\s?(05)\\s?\\W?\\s?([iI])', regex=True) | bikesDF['OFFENSE_DESCRIPTION'].str.contains(\"PARK\")"
   ]
  },
  {
   "cell_type": "markdown",
   "metadata": {},
   "source": [
    "### Delivery Cyclist Violations\n",
    "Delivery cyclists are required to have an identifying vest, helmet, and ID provided by their employer. Summons descriptions include many variation of \"Commercial Bike\", \"Comm Bicycle\", etc. as well as many variations in the `LAW_NUMBER_FIELD` of 10-157, including \"10 157\",\"10.157\", and \"10157\". It is unclear from the data whether certain other kinds of violations listed as not having ID plates \"affixed to bike\" are also in this category--bicycles are not required to have license plates, and commercial cyclists are required to have an ID card--not an ID on their bicycle. Those rows are not included in this group."
   ]
  },
  {
   "cell_type": "code",
   "execution_count": 14,
   "metadata": {},
   "outputs": [],
   "source": [
    "#individual conditions\n",
    "delivery = bikesDF['OFFENSE_DESCRIPTION'].str.contains(\"DELIVERY\")\n",
    "comm_bike = bikesDF['OFFENSE_DESCRIPTION'].str.contains(\"(COM)(M)?(.)+(BIKE)\", regex=True)\n",
    "comm_bicycle = bikesDF['OFFENSE_DESCRIPTION'].str.contains(\"(COM)(M)?(.)+(BICYCLE)\", regex=True)\n",
    "comm_law = bikesDF['LAW_SECTION_NUMBER'].str.contains('(10)\\s?\\W?\\s?(157)', regex=True)\n",
    "\n",
    "#defintion of group of conditions\n",
    "commercial = comm_bike | comm_bicycle | comm_law | delivery"
   ]
  },
  {
   "cell_type": "markdown",
   "metadata": {},
   "source": [
    "### Biking on Sidewalk\n",
    "This is by far the most common summons given related to cycling. It can be given citing either the Administrative Code, section 19-176(b or c), or citing the NYC DOT Traffic Rules section 4-07(c)."
   ]
  },
  {
   "cell_type": "code",
   "execution_count": 15,
   "metadata": {},
   "outputs": [
    {
     "data": {
      "text/plain": [
       "220511"
      ]
     },
     "execution_count": 15,
     "metadata": {},
     "output_type": "execute_result"
    }
   ],
   "source": [
    "offense = bikesDF['OFFENSE_DESCRIPTION'].str.contains(\"SIDEWALK\")\n",
    "admincode = bikesDF['LAW_SECTION_NUMBER'].str.contains(\"(19)\\s?\\W?\\s?(176)\") #administrative code 19.176\n",
    "traffic_rules = bikesDF['LAW_SECTION_NUMBER'].str.contains(\"^(4)\\s?\\W?\\s?(0)?(7)([.-])?(cC)?(?![ABabD-Zd-z])\") #NYC DOT Traffic Rules\n",
    "sidewalk =  offense | admincode | traffic_rules\n",
    "        \n",
    "sidewalk.sum()"
   ]
  },
  {
   "cell_type": "markdown",
   "metadata": {},
   "source": [
    "### Other or Unknown\n",
    "\n",
    "How many are left after excluding the groups above? 436 out of 263412. Not bad!"
   ]
  },
  {
   "cell_type": "code",
   "execution_count": 16,
   "metadata": {},
   "outputs": [
    {
     "data": {
      "text/plain": [
       "436"
      ]
     },
     "execution_count": 16,
     "metadata": {},
     "output_type": "execute_result"
    }
   ],
   "source": [
    "bikesDF.shape[0] - (park | sidewalk | equipment | commercial).sum()"
   ]
  },
  {
   "cell_type": "markdown",
   "metadata": {},
   "source": [
    "What offenses are left? The few that are left (many, a variation on \"reckless operation\") to my best guess are likely to be biking on a sidewalk, but at this point I'm just not sure enough to code them that way. I will code these remaining as \"Other or Unknown\". "
   ]
  },
  {
   "cell_type": "code",
   "execution_count": 17,
   "metadata": {},
   "outputs": [],
   "source": [
    "other = ~(park | sidewalk | equipment | commercial)"
   ]
  },
  {
   "cell_type": "code",
   "execution_count": 18,
   "metadata": {},
   "outputs": [
    {
     "data": {
      "text/plain": [
       "array(['NOISE (ENGINE EXHAUST)', 'NOISE (UNREASONABLE)',\n",
       "       'CONSUMPTION OF ALCOHOL', 'RECKLESS OPERATION OF BICYCLE',\n",
       "       'RECKLESS OPERATION OF BIKE', 'RECKLESS BICYCLE',\n",
       "       'RECKLESS OPERATION OF A BICYCLE', 'RECKLESS OPERATION BICYCLE',\n",
       "       'RIDING BICYCLE WHILE LISTENING TO AUDIO DEVICE',\n",
       "       'RECKLES  OPERATION OF BICYCLE', 'RECKLESS OPERATION OF A BIKE',\n",
       "       'RECKLESS OEPRATION OF BICYCLE', 'RECKLESS OPERATION BIKE',\n",
       "       'FAILED TO USE BIKE LANE', 'RECKLESS OPERATION ON BIKE',\n",
       "       'NO BICYCLE ID', 'RECKLESS OPERATION ON BICYCLE',\n",
       "       'DISCON RIDING BIKE AGAINST VEH TRAFFIC',\n",
       "       'BIKE GOING WRONG WAY ON STREET', 'FAIL TO AFIX ID TO BIKE',\n",
       "       'RECKL ESS OPERATION OF A BIKE',\n",
       "       'RING MINI BIKE IN THE WRONG DIRECTION',\n",
       "       'RECKLESS OPERATION OF  A BICYCLE',\n",
       "       'FAIL TO AFFIX ID PLATE TO BICYCLE',\n",
       "       'RECKLESS OPERATIONOF BICYCLE', 'NO FIRM BICYCLE ID',\n",
       "       'RECKLESS OPERATION  OF A  BICYCLE',\n",
       "       'RECKLESS OPERATION  OF BICYCLE', 'RIDE WITH HANDS OFF BIKE',\n",
       "       'FAIL TO AFFIX I.D. PLATE TO BICYCLE', 'FAILED TO USE BIKE PATH',\n",
       "       'RIDING MOTOR BIKE ON WALKWAY', 'RIDING A BIKE ON SUBWAY PLATFORM',\n",
       "       'FAILURE TO AFFIX BIKE PLATE', 'FAIL TO AFFIX ID PLATE TO BIKE',\n",
       "       'HANDS OFF BICYCLE', 'FAILED TO AFFIX ID PLATE TO BIKE',\n",
       "       'RECKLESS OP OF  A BIKE', 'FAIL TO AFFIX PLATE TO BIKE',\n",
       "       'WRONG WAY BICYCLE', 'RECKLESS OP OF BICYCLE',\n",
       "       'RECKLESS OEPRATION OF BIKE', 'BICYCLE ON SIDE WALK',\n",
       "       'TWO EARPHONES WHILE RIDING BIKE', 'NO BICYCLE COMM ID',\n",
       "       'TOO MANY PEOPLE ON BIKE', 'FAIL TO AFFIX ID PLATE ON BIKE',\n",
       "       'BUSINESS NAME NO DISPLAYED ON BIKE',\n",
       "       'RIDING MORE THAN 2 ABREAST TO BIKE', 'OPERATE BIKE W/2 EARSET ON',\n",
       "       'MORE THAN ONE PERSON ON BIKE', 'HOLDING TO VEH WHILE ON BICYCLE',\n",
       "       'BIKE', 'UNREGISTERED MOTORBIKE', 'TOO MANY ON BIKE',\n",
       "       'BIKE WHERE PROHIBITED', 'RECK OPER OF A BIKE',\n",
       "       'OPERATING BICYCLE WITH 2 EAR HEADSET',\n",
       "       'BICYCLE-OPER DISOBEY ONE WAY SIGN', 'BIKE ON SIDE WALK',\n",
       "       'RECKLESS OPERATION OG BIKE', 'RIDING BIKE WRONG WAY',\n",
       "       'RECLESS OPERATIN OF BIKE', 'BIKE----------------FAIL TO ISSUE ID',\n",
       "       'MORE THAN ONE PERSON RIDING ON BIKE',\n",
       "       'OPERATE BIKE IN RECKLESS MANNER',\n",
       "       'OPERATE BIKE IN RECLESS MANNER', 'RECKLESS OPERATON OF BIKE',\n",
       "       'DISOBEY SIGN (BIKE ON PATH)', 'RECKLESS BIKE',\n",
       "       'INTERFER WITH TRAFFIC ,NOT IN BIKE LANE',\n",
       "       'RIDING ON HANDLE BARS OF BIKE IN THE STR', 'BIKE ON WALKWAY',\n",
       "       'FAIL TO AFFIX ID TO BIKE', 'RECKLESS BIKE OPERATION',\n",
       "       'RECLESS OPERATION OF BIKE', 'BIKE ON SIDWALK',\n",
       "       'DRIVING WRONG WAY ON BICYCLE', 'TOO MANY PEOPLE ON BICYCLE',\n",
       "       'NO ID PLATE ON BICYCLE', 'OPER A VEH IN BIKE LANE.',\n",
       "       'NO ID PLATE ON BIKE', 'FAIL TO USE BIKE LANE UNSAFE',\n",
       "       'OPERATING BICYCLE IN WRONG DIRECTION', 'BIKE AGAINST TRAFFIC',\n",
       "       'NO BIKE RIDING SIDEWAlk', 'NO BIKE ID',\n",
       "       'USE OF ROADWAYS, PEDESTRIANS, HORSES, BICYCLES AND LIMITED USE VEHICLES PROHIBIT',\n",
       "       'NOT IN A BIKE LANE OR IN THE RIGHT HAND SIDE OF TRAFFIC',\n",
       "       'NO TRIP SHEET', 'FAILURE TO COMPLY WITH SIGN',\n",
       "       'URINATING IN PUBLIC'], dtype=object)"
      ]
     },
     "execution_count": 18,
     "metadata": {},
     "output_type": "execute_result"
    }
   ],
   "source": [
    "bikesDF[other]['OFFENSE_DESCRIPTION'].unique()"
   ]
  },
  {
   "cell_type": "markdown",
   "metadata": {},
   "source": [
    "Final check to make sure there groups are mututally exclusive and exhaustive should yield \"True\"."
   ]
  },
  {
   "cell_type": "code",
   "execution_count": 19,
   "metadata": {},
   "outputs": [
    {
     "data": {
      "text/plain": [
       "True"
      ]
     },
     "execution_count": 19,
     "metadata": {},
     "output_type": "execute_result"
    }
   ],
   "source": [
    "(park | sidewalk | equipment | commercial | other).sum() == bikesDF.shape[0]"
   ]
  },
  {
   "cell_type": "markdown",
   "metadata": {},
   "source": [
    "### Putting It All Together\n",
    "\n",
    "Putting it all together, I will create a new category field for display based on the groups identified above, and then limit the overall dataset to the last 10 years of data."
   ]
  },
  {
   "cell_type": "code",
   "execution_count": 23,
   "metadata": {},
   "outputs": [],
   "source": [
    "bike_summons = bikesDF.copy()"
   ]
  },
  {
   "cell_type": "code",
   "execution_count": 24,
   "metadata": {},
   "outputs": [],
   "source": [
    "bike_summons.loc[park, 'cat'] = 'park'\n",
    "bike_summons.loc[equipment, 'cat'] = 'equipment' \n",
    "bike_summons.loc[sidewalk, 'cat'] = 'sidewalk'\n",
    "bike_summons.loc[commercial, 'cat'] = 'commercial'\n",
    "bike_summons.loc[other, 'cat'] = 'other'"
   ]
  },
  {
   "cell_type": "code",
   "execution_count": 25,
   "metadata": {},
   "outputs": [],
   "source": [
    "bike_summons['YEAR'] = bike_summons['SUMMONS_DATE'].dt.year"
   ]
  },
  {
   "cell_type": "code",
   "execution_count": 39,
   "metadata": {},
   "outputs": [],
   "source": [
    "#rename precinct col\n",
    "bike_summons = bike_summons.rename(columns={\"PRECINCT_OF_OCCUR\":\"Precinct\"})\n"
   ]
  },
  {
   "cell_type": "markdown",
   "metadata": {},
   "source": [
    "## Part 3: Data Exploration\n",
    "\n",
    "As I am doing a little exploratory data analysis at the same time, I will also import `matplotlib.pyplot`."
   ]
  },
  {
   "cell_type": "code",
   "execution_count": 34,
   "metadata": {},
   "outputs": [],
   "source": [
    "import matplotlib.pyplot as plt"
   ]
  },
  {
   "cell_type": "code",
   "execution_count": 35,
   "metadata": {},
   "outputs": [
    {
     "data": {
      "text/plain": [
       "<matplotlib.axes._subplots.AxesSubplot at 0x7fd5b5cdddf0>"
      ]
     },
     "execution_count": 35,
     "metadata": {},
     "output_type": "execute_result"
    },
    {
     "data": {
      "image/png": "[encoded data removed]",
      "text/plain": [
       "<Figure size 432x288 with 1 Axes>"
      ]
     },
     "metadata": {
      "needs_background": "light"
     },
     "output_type": "display_data"
    }
   ],
   "source": [
    "bike_summons[['SUMMONS_KEY', 'cat']].pivot_table(index=\"cat\", aggfunc='count').sort_values('SUMMONS_KEY').plot(kind='bar')"
   ]
  },
  {
   "cell_type": "code",
   "execution_count": 36,
   "metadata": {},
   "outputs": [
    {
     "data": {
      "text/plain": [
       "<matplotlib.legend.Legend at 0x7fd5bd0f6d00>"
      ]
     },
     "execution_count": 36,
     "metadata": {},
     "output_type": "execute_result"
    },
    {
     "data": {
      "image/png": "[encoded data removed]",
      "text/plain": [
       "<Figure size 432x288 with 1 Axes>"
      ]
     },
     "metadata": {
      "needs_background": "light"
     },
     "output_type": "display_data"
    }
   ],
   "source": [
    "bike_summons[['SUMMONS_KEY', 'cat', 'YEAR']].pivot_table(index=\"YEAR\", columns='cat', aggfunc='count').plot(kind='line')\n",
    "plt.legend(loc='center left', bbox_to_anchor=(1.0, 0.5)) #moves legend outside"
   ]
  },
  {
   "cell_type": "code",
   "execution_count": 329,
   "metadata": {},
   "outputs": [
    {
     "data": {
      "text/plain": [
       "<matplotlib.legend.Legend at 0x7feaab8bddc0>"
      ]
     },
     "execution_count": 329,
     "metadata": {},
     "output_type": "execute_result"
    },
    {
     "data": {
      "image/png": "[encoded data removed]",
      "text/plain": [
       "<Figure size 432x288 with 1 Axes>"
      ]
     },
     "metadata": {
      "needs_background": "light"
     },
     "output_type": "display_data"
    }
   ],
   "source": [
    "bike_summons[['SUMMONS_KEY', 'cat', 'RACE']].pivot_table(index=\"cat\", columns='RACE', aggfunc='count').plot(kind='bar')\n",
    "plt.legend(loc='center left', bbox_to_anchor=(1.0, 0.5)) #moves legend outside"
   ]
  },
  {
   "cell_type": "markdown",
   "metadata": {},
   "source": [
    "What the above crude visualization shows us is that that race is overwhelmingly unknown. Delving deeper, we can see that this varies by year."
   ]
  },
  {
   "cell_type": "code",
   "execution_count": 319,
   "metadata": {},
   "outputs": [
    {
     "data": {
      "text/html": [
       "<div>\n",
       "<style scoped>\n",
       "    .dataframe tbody tr th:only-of-type {\n",
       "        vertical-align: middle;\n",
       "    }\n",
       "\n",
       "    .dataframe tbody tr th {\n",
       "        vertical-align: top;\n",
       "    }\n",
       "\n",
       "    .dataframe thead tr th {\n",
       "        text-align: left;\n",
       "    }\n",
       "\n",
       "    .dataframe thead tr:last-of-type th {\n",
       "        text-align: right;\n",
       "    }\n",
       "</style>\n",
       "<table border=\"1\" class=\"dataframe\">\n",
       "  <thead>\n",
       "    <tr>\n",
       "      <th></th>\n",
       "      <th colspan=\"10\" halign=\"left\">SUMMONS_KEY</th>\n",
       "    </tr>\n",
       "    <tr>\n",
       "      <th>RACE</th>\n",
       "      <th></th>\n",
       "      <th>AMERICAN INDIAN/ALASKAN NATIVE</th>\n",
       "      <th>ASIAN / PACIFIC ISLANDER</th>\n",
       "      <th>BLACK</th>\n",
       "      <th>BLACK HISPANIC</th>\n",
       "      <th>HISPANIC</th>\n",
       "      <th>OTHER</th>\n",
       "      <th>UNKNOWN</th>\n",
       "      <th>WHITE</th>\n",
       "      <th>WHITE HISPANIC</th>\n",
       "    </tr>\n",
       "    <tr>\n",
       "      <th>YEAR</th>\n",
       "      <th></th>\n",
       "      <th></th>\n",
       "      <th></th>\n",
       "      <th></th>\n",
       "      <th></th>\n",
       "      <th></th>\n",
       "      <th></th>\n",
       "      <th></th>\n",
       "      <th></th>\n",
       "      <th></th>\n",
       "    </tr>\n",
       "  </thead>\n",
       "  <tbody>\n",
       "    <tr>\n",
       "      <th>2006</th>\n",
       "      <td>NaN</td>\n",
       "      <td>NaN</td>\n",
       "      <td>3.0</td>\n",
       "      <td>1146.0</td>\n",
       "      <td>NaN</td>\n",
       "      <td>162.0</td>\n",
       "      <td>418.0</td>\n",
       "      <td>26134.0</td>\n",
       "      <td>12.0</td>\n",
       "      <td>NaN</td>\n",
       "    </tr>\n",
       "    <tr>\n",
       "      <th>2007</th>\n",
       "      <td>NaN</td>\n",
       "      <td>NaN</td>\n",
       "      <td>NaN</td>\n",
       "      <td>NaN</td>\n",
       "      <td>NaN</td>\n",
       "      <td>NaN</td>\n",
       "      <td>NaN</td>\n",
       "      <td>28827.0</td>\n",
       "      <td>NaN</td>\n",
       "      <td>NaN</td>\n",
       "    </tr>\n",
       "    <tr>\n",
       "      <th>2008</th>\n",
       "      <td>NaN</td>\n",
       "      <td>NaN</td>\n",
       "      <td>NaN</td>\n",
       "      <td>NaN</td>\n",
       "      <td>NaN</td>\n",
       "      <td>NaN</td>\n",
       "      <td>NaN</td>\n",
       "      <td>29300.0</td>\n",
       "      <td>NaN</td>\n",
       "      <td>NaN</td>\n",
       "    </tr>\n",
       "    <tr>\n",
       "      <th>2009</th>\n",
       "      <td>NaN</td>\n",
       "      <td>NaN</td>\n",
       "      <td>NaN</td>\n",
       "      <td>NaN</td>\n",
       "      <td>NaN</td>\n",
       "      <td>NaN</td>\n",
       "      <td>NaN</td>\n",
       "      <td>30545.0</td>\n",
       "      <td>NaN</td>\n",
       "      <td>NaN</td>\n",
       "    </tr>\n",
       "    <tr>\n",
       "      <th>2010</th>\n",
       "      <td>NaN</td>\n",
       "      <td>NaN</td>\n",
       "      <td>NaN</td>\n",
       "      <td>NaN</td>\n",
       "      <td>NaN</td>\n",
       "      <td>NaN</td>\n",
       "      <td>NaN</td>\n",
       "      <td>33385.0</td>\n",
       "      <td>1.0</td>\n",
       "      <td>NaN</td>\n",
       "    </tr>\n",
       "    <tr>\n",
       "      <th>2011</th>\n",
       "      <td>1.0</td>\n",
       "      <td>NaN</td>\n",
       "      <td>NaN</td>\n",
       "      <td>NaN</td>\n",
       "      <td>NaN</td>\n",
       "      <td>NaN</td>\n",
       "      <td>NaN</td>\n",
       "      <td>38723.0</td>\n",
       "      <td>NaN</td>\n",
       "      <td>NaN</td>\n",
       "    </tr>\n",
       "    <tr>\n",
       "      <th>2012</th>\n",
       "      <td>1.0</td>\n",
       "      <td>NaN</td>\n",
       "      <td>NaN</td>\n",
       "      <td>NaN</td>\n",
       "      <td>NaN</td>\n",
       "      <td>NaN</td>\n",
       "      <td>NaN</td>\n",
       "      <td>36935.0</td>\n",
       "      <td>NaN</td>\n",
       "      <td>NaN</td>\n",
       "    </tr>\n",
       "    <tr>\n",
       "      <th>2013</th>\n",
       "      <td>NaN</td>\n",
       "      <td>NaN</td>\n",
       "      <td>NaN</td>\n",
       "      <td>NaN</td>\n",
       "      <td>NaN</td>\n",
       "      <td>NaN</td>\n",
       "      <td>NaN</td>\n",
       "      <td>25082.0</td>\n",
       "      <td>NaN</td>\n",
       "      <td>1.0</td>\n",
       "    </tr>\n",
       "    <tr>\n",
       "      <th>2014</th>\n",
       "      <td>3.0</td>\n",
       "      <td>NaN</td>\n",
       "      <td>NaN</td>\n",
       "      <td>NaN</td>\n",
       "      <td>NaN</td>\n",
       "      <td>NaN</td>\n",
       "      <td>NaN</td>\n",
       "      <td>6070.0</td>\n",
       "      <td>NaN</td>\n",
       "      <td>NaN</td>\n",
       "    </tr>\n",
       "    <tr>\n",
       "      <th>2015</th>\n",
       "      <td>2393.0</td>\n",
       "      <td>NaN</td>\n",
       "      <td>NaN</td>\n",
       "      <td>NaN</td>\n",
       "      <td>NaN</td>\n",
       "      <td>NaN</td>\n",
       "      <td>NaN</td>\n",
       "      <td>892.0</td>\n",
       "      <td>NaN</td>\n",
       "      <td>NaN</td>\n",
       "    </tr>\n",
       "    <tr>\n",
       "      <th>2016</th>\n",
       "      <td>448.0</td>\n",
       "      <td>2.0</td>\n",
       "      <td>99.0</td>\n",
       "      <td>251.0</td>\n",
       "      <td>74.0</td>\n",
       "      <td>NaN</td>\n",
       "      <td>NaN</td>\n",
       "      <td>440.0</td>\n",
       "      <td>130.0</td>\n",
       "      <td>259.0</td>\n",
       "    </tr>\n",
       "    <tr>\n",
       "      <th>2017</th>\n",
       "      <td>37.0</td>\n",
       "      <td>6.0</td>\n",
       "      <td>90.0</td>\n",
       "      <td>254.0</td>\n",
       "      <td>78.0</td>\n",
       "      <td>NaN</td>\n",
       "      <td>NaN</td>\n",
       "      <td>52.0</td>\n",
       "      <td>122.0</td>\n",
       "      <td>242.0</td>\n",
       "    </tr>\n",
       "    <tr>\n",
       "      <th>2018</th>\n",
       "      <td>1.0</td>\n",
       "      <td>4.0</td>\n",
       "      <td>32.0</td>\n",
       "      <td>136.0</td>\n",
       "      <td>29.0</td>\n",
       "      <td>NaN</td>\n",
       "      <td>3.0</td>\n",
       "      <td>5.0</td>\n",
       "      <td>41.0</td>\n",
       "      <td>106.0</td>\n",
       "    </tr>\n",
       "    <tr>\n",
       "      <th>2019</th>\n",
       "      <td>NaN</td>\n",
       "      <td>4.0</td>\n",
       "      <td>31.0</td>\n",
       "      <td>212.0</td>\n",
       "      <td>32.0</td>\n",
       "      <td>NaN</td>\n",
       "      <td>3.0</td>\n",
       "      <td>5.0</td>\n",
       "      <td>46.0</td>\n",
       "      <td>104.0</td>\n",
       "    </tr>\n",
       "  </tbody>\n",
       "</table>\n",
       "</div>"
      ],
      "text/plain": [
       "     SUMMONS_KEY                                                          \\\n",
       "RACE             AMERICAN INDIAN/ALASKAN NATIVE ASIAN / PACIFIC ISLANDER   \n",
       "YEAR                                                                       \n",
       "2006         NaN                            NaN                      3.0   \n",
       "2007         NaN                            NaN                      NaN   \n",
       "2008         NaN                            NaN                      NaN   \n",
       "2009         NaN                            NaN                      NaN   \n",
       "2010         NaN                            NaN                      NaN   \n",
       "2011         1.0                            NaN                      NaN   \n",
       "2012         1.0                            NaN                      NaN   \n",
       "2013         NaN                            NaN                      NaN   \n",
       "2014         3.0                            NaN                      NaN   \n",
       "2015      2393.0                            NaN                      NaN   \n",
       "2016       448.0                            2.0                     99.0   \n",
       "2017        37.0                            6.0                     90.0   \n",
       "2018         1.0                            4.0                     32.0   \n",
       "2019         NaN                            4.0                     31.0   \n",
       "\n",
       "                                                                            \n",
       "RACE   BLACK BLACK HISPANIC HISPANIC  OTHER  UNKNOWN  WHITE WHITE HISPANIC  \n",
       "YEAR                                                                        \n",
       "2006  1146.0            NaN    162.0  418.0  26134.0   12.0            NaN  \n",
       "2007     NaN            NaN      NaN    NaN  28827.0    NaN            NaN  \n",
       "2008     NaN            NaN      NaN    NaN  29300.0    NaN            NaN  \n",
       "2009     NaN            NaN      NaN    NaN  30545.0    NaN            NaN  \n",
       "2010     NaN            NaN      NaN    NaN  33385.0    1.0            NaN  \n",
       "2011     NaN            NaN      NaN    NaN  38723.0    NaN            NaN  \n",
       "2012     NaN            NaN      NaN    NaN  36935.0    NaN            NaN  \n",
       "2013     NaN            NaN      NaN    NaN  25082.0    NaN            1.0  \n",
       "2014     NaN            NaN      NaN    NaN   6070.0    NaN            NaN  \n",
       "2015     NaN            NaN      NaN    NaN    892.0    NaN            NaN  \n",
       "2016   251.0           74.0      NaN    NaN    440.0  130.0          259.0  \n",
       "2017   254.0           78.0      NaN    NaN     52.0  122.0          242.0  \n",
       "2018   136.0           29.0      NaN    3.0      5.0   41.0          106.0  \n",
       "2019   212.0           32.0      NaN    3.0      5.0   46.0          104.0  "
      ]
     },
     "execution_count": 319,
     "metadata": {},
     "output_type": "execute_result"
    }
   ],
   "source": [
    "bike_summons[['SUMMONS_KEY', 'YEAR', 'RACE']].pivot_table(index='YEAR', columns='RACE', aggfunc='count')"
   ]
  },
  {
   "cell_type": "code",
   "execution_count": 330,
   "metadata": {
    "scrolled": true
   },
   "outputs": [
    {
     "data": {
      "text/plain": [
       "<matplotlib.legend.Legend at 0x7fea982605e0>"
      ]
     },
     "execution_count": 330,
     "metadata": {},
     "output_type": "execute_result"
    },
    {
     "data": {
      "image/png": "[encoded data removed]",
      "text/plain": [
       "<Figure size 432x288 with 1 Axes>"
      ]
     },
     "metadata": {
      "needs_background": "light"
     },
     "output_type": "display_data"
    }
   ],
   "source": [
    "bike_summons[bikesDF['YEAR']>2016][['SUMMONS_KEY', 'cat', 'RACE']].pivot_table(\n",
    "    index='cat', columns='RACE', aggfunc='count').plot(kind='bar')\n",
    "\n",
    "plt.legend(loc='center left', bbox_to_anchor=(1.0, 0.5))"
   ]
  },
  {
   "cell_type": "code",
   "execution_count": 328,
   "metadata": {},
   "outputs": [
    {
     "data": {
      "text/plain": [
       "<matplotlib.legend.Legend at 0x7fea7bd6e220>"
      ]
     },
     "execution_count": 328,
     "metadata": {},
     "output_type": "execute_result"
    },
    {
     "data": {
      "image/png": "[encoded data removed]",
      "text/plain": [
       "<Figure size 432x288 with 1 Axes>"
      ]
     },
     "metadata": {
      "needs_background": "light"
     },
     "output_type": "display_data"
    }
   ],
   "source": [
    "bike_summons[bike_summons['YEAR']>2016][['SUMMONS_KEY', 'YEAR', 'RACE']].pivot_table(\n",
    "    index='YEAR', columns='RACE', aggfunc='count').plot(kind='bar')\n",
    "\n",
    "plt.legend(loc='center left', bbox_to_anchor=(1.0, 0.5))"
   ]
  },
  {
   "cell_type": "code",
   "execution_count": 49,
   "metadata": {},
   "outputs": [
    {
     "data": {
      "text/html": [
       "<div>\n",
       "<style scoped>\n",
       "    .dataframe tbody tr th:only-of-type {\n",
       "        vertical-align: middle;\n",
       "    }\n",
       "\n",
       "    .dataframe tbody tr th {\n",
       "        vertical-align: top;\n",
       "    }\n",
       "\n",
       "    .dataframe thead th {\n",
       "        text-align: right;\n",
       "    }\n",
       "</style>\n",
       "<table border=\"1\" class=\"dataframe\">\n",
       "  <thead>\n",
       "    <tr style=\"text-align: right;\">\n",
       "      <th></th>\n",
       "      <th></th>\n",
       "      <th>SUMMONS_KEY</th>\n",
       "    </tr>\n",
       "    <tr>\n",
       "      <th>Precinct</th>\n",
       "      <th>YEAR</th>\n",
       "      <th></th>\n",
       "    </tr>\n",
       "  </thead>\n",
       "  <tbody>\n",
       "    <tr>\n",
       "      <th>1</th>\n",
       "      <th>2017</th>\n",
       "      <td>1</td>\n",
       "    </tr>\n",
       "    <tr>\n",
       "      <th rowspan=\"3\" valign=\"top\">5</th>\n",
       "      <th>2017</th>\n",
       "      <td>29</td>\n",
       "    </tr>\n",
       "    <tr>\n",
       "      <th>2018</th>\n",
       "      <td>14</td>\n",
       "    </tr>\n",
       "    <tr>\n",
       "      <th>2019</th>\n",
       "      <td>17</td>\n",
       "    </tr>\n",
       "    <tr>\n",
       "      <th>6</th>\n",
       "      <th>2017</th>\n",
       "      <td>10</td>\n",
       "    </tr>\n",
       "    <tr>\n",
       "      <th>...</th>\n",
       "      <th>...</th>\n",
       "      <td>...</td>\n",
       "    </tr>\n",
       "    <tr>\n",
       "      <th>120</th>\n",
       "      <th>2019</th>\n",
       "      <td>6</td>\n",
       "    </tr>\n",
       "    <tr>\n",
       "      <th>121</th>\n",
       "      <th>2017</th>\n",
       "      <td>2</td>\n",
       "    </tr>\n",
       "    <tr>\n",
       "      <th rowspan=\"2\" valign=\"top\">122</th>\n",
       "      <th>2017</th>\n",
       "      <td>1</td>\n",
       "    </tr>\n",
       "    <tr>\n",
       "      <th>2019</th>\n",
       "      <td>1</td>\n",
       "    </tr>\n",
       "    <tr>\n",
       "      <th>123</th>\n",
       "      <th>2017</th>\n",
       "      <td>3</td>\n",
       "    </tr>\n",
       "  </tbody>\n",
       "</table>\n",
       "<p>182 rows × 1 columns</p>\n",
       "</div>"
      ],
      "text/plain": [
       "               SUMMONS_KEY\n",
       "Precinct YEAR             \n",
       "1        2017            1\n",
       "5        2017           29\n",
       "         2018           14\n",
       "         2019           17\n",
       "6        2017           10\n",
       "...                    ...\n",
       "120      2019            6\n",
       "121      2017            2\n",
       "122      2017            1\n",
       "         2019            1\n",
       "123      2017            3\n",
       "\n",
       "[182 rows x 1 columns]"
      ]
     },
     "execution_count": 49,
     "metadata": {},
     "output_type": "execute_result"
    }
   ],
   "source": [
    "bike_summons[bike_summons['YEAR']>2016][['SUMMONS_KEY', 'Precinct', 'YEAR']].groupby(['Precinct', 'YEAR']).count()"
   ]
  },
  {
   "cell_type": "code",
   "execution_count": 38,
   "metadata": {},
   "outputs": [
    {
     "name": "stdout",
     "output_type": "stream",
     "text": [
      "<class 'pandas.core.frame.DataFrame'>\n",
      "Int64Index: 263412 entries, 9 to 5280674\n",
      "Data columns (total 19 columns):\n",
      " #   Column                 Non-Null Count   Dtype         \n",
      "---  ------                 --------------   -----         \n",
      " 0   SUMMONS_KEY            263412 non-null  int64         \n",
      " 1   SUMMONS_DATE           263412 non-null  datetime64[ns]\n",
      " 2   OFFENSE_DESCRIPTION    263412 non-null  object        \n",
      " 3   LAW_SECTION_NUMBER     263412 non-null  object        \n",
      " 4   LAW_DESCRIPTION        263412 non-null  object        \n",
      " 5   SUMMONS_CATEGORY_TYPE  263412 non-null  object        \n",
      " 6   AGE_GROUP              263412 non-null  object        \n",
      " 7   SEX                    263412 non-null  object        \n",
      " 8   RACE                   263412 non-null  object        \n",
      " 9   JURISDICTION_CODE      263412 non-null  int64         \n",
      " 10  BORO                   263412 non-null  object        \n",
      " 11  PRECINCT_OF_OCCUR      263412 non-null  int64         \n",
      " 12  X_COORDINATE_CD        263412 non-null  object        \n",
      " 13  Y_COORDINATE_CD        263412 non-null  object        \n",
      " 14  Latitude               263412 non-null  object        \n",
      " 15  Longitude              263412 non-null  object        \n",
      " 16  Lon_Lat                263412 non-null  object        \n",
      " 17  cat                    263412 non-null  object        \n",
      " 18  YEAR                   263412 non-null  int64         \n",
      "dtypes: datetime64[ns](1), int64(4), object(14)\n",
      "memory usage: 40.2+ MB\n"
     ]
    }
   ],
   "source": [
    "bike_summons.info()"
   ]
  },
  {
   "cell_type": "markdown",
   "metadata": {},
   "source": [
    "## Part 4: Transforming data into GeoJSON"
   ]
  },
  {
   "cell_type": "code",
   "execution_count": 27,
   "metadata": {},
   "outputs": [],
   "source": [
    "#https://gis.stackexchange.com/questions/220997/pandas-to-geojson-multiples-points-features-with-python <-found here\n",
    "#https://geoffboeing.com/2015/10/exporting-python-data-geojson/ <- adapted from here\n",
    "def df_to_geojson(df, properties, lat='Latitude', lon='Longitude'):\n",
    "    geojson = {'type':'FeatureCollection', 'features':[]}\n",
    "    for _, row in df.iterrows():\n",
    "        feature = {'type':'Feature',\n",
    "                   'properties':{},\n",
    "                   'geometry':{'type':'Point','coordinates':[]}}\n",
    "        feature['geometry']['coordinates'] = [row[lon],row[lat],0]\n",
    "        for prop in properties:\n",
    "            feature['properties'][prop] = row[prop]\n",
    "        geojson['features'].append(feature)\n",
    "    return geojson"
   ]
  },
  {
   "cell_type": "code",
   "execution_count": 33,
   "metadata": {},
   "outputs": [],
   "source": [
    "#save file\n",
    "with open('scratch/bike.summons.2006_2019.geojson', 'w') as outfile:\n",
    "    #runs df_to_geojson file\n",
    "    json.dump(df_to_geojson(\n",
    "                #name of the cleaned df with summons data\n",
    "                bike_summons, \n",
    "                #list of columns of interest to add to the map\n",
    "                ['cat', 'YEAR'] \n",
    "    ), outfile)\n"
   ]
  }
 ],
 "metadata": {
  "kernelspec": {
   "display_name": "Python 3",
   "language": "python",
   "name": "python3"
  },
  "language_info": {
   "codemirror_mode": {
    "name": "ipython",
    "version": 3
   },
   "file_extension": ".py",
   "mimetype": "text/x-python",
   "name": "python",
   "nbconvert_exporter": "python",
   "pygments_lexer": "ipython3",
   "version": "3.8.3"
  }
 },
 "nbformat": 4,
 "nbformat_minor": 4
}
